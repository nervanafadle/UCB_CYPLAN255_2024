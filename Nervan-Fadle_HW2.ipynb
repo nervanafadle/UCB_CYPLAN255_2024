{
 "cells": [
  {
   "cell_type": "markdown",
   "id": "f96bdfc7",
   "metadata": {},
   "source": [
    "# Assignment 2 | Programming Logic\n",
    "\n",
    "Reminder: in all of the assignments this semester, the answer is not the only consideration, but also how you get to it. It's OK (suggested even!) to use the internet for help. But you _should_ be able to answer all of these questions using only the programming techniques you have learned in class and from the readings.\n",
    "\n",
    "A few keys for success:\n",
    "- Avoid manual data entry\n",
    "- Emphasize logic and clarity\n",
    "- Use comments, docstrings, and descriptive variable names\n",
    "- In general, less code is better. But if more lines of code makes your program easier to read or understand what its doing, then go for it."
   ]
  },
  {
   "cell_type": "markdown",
   "id": "078a9000",
   "metadata": {},
   "source": [
    "## Problem 1 \n",
    "Write a Python program to count the number of even and odd numbers from a list of numbers. Test your code by running it on a list of integers from 1 to 9. No need to make this a function unless you want to."
   ]
  },
  {
   "cell_type": "code",
   "execution_count": 10,
   "id": "8eb937c5",
   "metadata": {},
   "outputs": [
    {
     "name": "stdout",
     "output_type": "stream",
     "text": [
      "number of even numbers in the test list is: 4\n",
      "number of odd numbers in the test list is: 5\n"
     ]
    }
   ],
   "source": [
    "test = [1,2,3,4,5,6,7,8,9]\n",
    "count_even = 0\n",
    "count_odd = 0\n",
    "for number in test:\n",
    "    if number % 2 == 0:\n",
    "        count_even+=1\n",
    "    else: \n",
    "        count_odd+=1\n",
    "print('number of even numbers in the test list is:', count_even)\n",
    "print('number of odd numbers in the test list is:', count_odd)"
   ]
  },
  {
   "cell_type": "markdown",
   "id": "db9df1a9",
   "metadata": {
    "collapsed": true
   },
   "source": [
    "## Problem 2\n",
    "Write a Python function that takes a list of numbers and returns a list containing only the even numbers from the original list. Test your function by running it on a list of integers from 1 to 9."
   ]
  },
  {
   "cell_type": "code",
   "execution_count": 19,
   "id": "45fcfd00",
   "metadata": {},
   "outputs": [
    {
     "name": "stdout",
     "output_type": "stream",
     "text": [
      "List of even numbers from test list:  [2, 4, 6, 8]\n"
     ]
    }
   ],
   "source": [
    "test = [1,2,3,4,5,6,7,8,9]\n",
    "even_test = []\n",
    "for number in test:\n",
    "    if number % 2 == 0:\n",
    "        even_test.append(number)\n",
    "print(\"List of even numbers from test list: \", even_test)"
   ]
  },
  {
   "cell_type": "markdown",
   "id": "6a6f4ef0",
   "metadata": {},
   "source": [
    "## Problem 3\n",
    "\n",
    "1. Create a function that accepts a list of integers as an argument and returns a list of floats which equals each number as a fraction of the sum of all the items in the original list.\n",
    "\n",
    "2. Next, create a second function which is the same as the first, but limit each number in the output list to two decimals.\n",
    "\n",
    "3. Create another function which builds on the previous one by allowing a \"user\" pass in an argument that defines the number of decimal places to use in the output list.\n",
    "\n",
    "4. Test each of these functions with a list of integers"
   ]
  },
  {
   "cell_type": "code",
   "execution_count": 29,
   "id": "6856ee58",
   "metadata": {},
   "outputs": [],
   "source": [
    "def int_float (input_list):\n",
    "    total_sum = sum(input_list)\n",
    "    return [float(item) / total_sum for item in input_list]"
   ]
  },
  {
   "cell_type": "code",
   "execution_count": 33,
   "id": "3e6e5807",
   "metadata": {},
   "outputs": [
    {
     "data": {
      "text/plain": [
       "[0.07, 0.13, 0.2, 0.27, 0.33]"
      ]
     },
     "execution_count": 33,
     "metadata": {},
     "output_type": "execute_result"
    }
   ],
   "source": [
    "def int_float_limit(input_list):\n",
    "    fractional_int_float = int_float(input_list)\n",
    "    return [round(value, 2) for value in fractional_int_float]"
   ]
  },
  {
   "cell_type": "code",
   "execution_count": 34,
   "id": "9a6c57a9",
   "metadata": {},
   "outputs": [],
   "source": [
    "def int_float_pass(input_list, precision):\n",
    "    fractional_int_float = int_float(input_list)\n",
    "    return [round(value, precision) for value in fractional_int_float]"
   ]
  },
  {
   "cell_type": "code",
   "execution_count": 39,
   "id": "a47069cb",
   "metadata": {},
   "outputs": [
    {
     "name": "stdout",
     "output_type": "stream",
     "text": [
      "[0.06666666666666667, 0.13333333333333333, 0.2, 0.26666666666666666, 0.3333333333333333]\n",
      "[0.07, 0.13, 0.2, 0.27, 0.33]\n",
      "[0.06667, 0.13333, 0.2, 0.26667, 0.33333]\n"
     ]
    }
   ],
   "source": [
    "test = [1,2,3,4,5]\n",
    "print(int_float(test))\n",
    "print(int_float_limit(test))\n",
    "print(int_float_pass(test,5))"
   ]
  },
  {
   "cell_type": "markdown",
   "id": "17e43098",
   "metadata": {},
   "source": [
    "## Problem 4\n",
    "A prime number is any whole number greater than 1 that has no positive divisors besides 1 and itself. In other words, a prime number must be:\n",
    "1. an integer\n",
    "2. greater than 1\n",
    "3. divisible only by 1 and itself.\n",
    "\n",
    "Write a function is_prime(n) that accepts an argument `n` and returns `True` (boolean) if `n` is a prime number and `False` if n is not prime. For example, `is_prime(11)` should return `True` and `is_prime(12)` should return `False`.\n"
   ]
  },
  {
   "cell_type": "code",
   "execution_count": 14,
   "id": "64457ab2",
   "metadata": {},
   "outputs": [
    {
     "name": "stdout",
     "output_type": "stream",
     "text": [
      "True\n",
      "False\n"
     ]
    }
   ],
   "source": [
    "def is_prime(n):\n",
    "    if n <= 1:\n",
    "        return False\n",
    "    if n == 2:\n",
    "        return True\n",
    "    for i in range(2, int(n**0.5) + 1):\n",
    "        if n % i == 0:\n",
    "            return False\n",
    "    return True\n",
    "print(is_prime(11)) \n",
    "print(is_prime(12))"
   ]
  },
  {
   "cell_type": "markdown",
   "id": "e556b42f",
   "metadata": {},
   "source": [
    "## Problem 5"
   ]
  },
  {
   "cell_type": "markdown",
   "id": "fd5f4463",
   "metadata": {},
   "source": [
    "1. Create a class called `Housing`, and add the following attributes to it:\n",
    "  - type\n",
    "  - area\n",
    "  - number of bedrooms\n",
    "  - value (price)\n",
    "  - year built.\n",
    "2. Create two instances of your class and populate their attributes (make 'em up)\n",
    "3. Create a method called `rent()` that calculates the estimated monthly rent for each house (assume that monthly rent is 0.4% of the value of the house)\n",
    "4. Print the rent for both instances."
   ]
  },
  {
   "cell_type": "code",
   "execution_count": 24,
   "id": "efa713df",
   "metadata": {},
   "outputs": [],
   "source": [
    "class Housing:\n",
    "    def __init__(self, type, area, bedrooms, value, year):\n",
    "        self.type = type\n",
    "        self.area = area\n",
    "        self.bedrooms = bedrooms\n",
    "        self.value = value\n",
    "        self.year = year"
   ]
  },
  {
   "cell_type": "code",
   "execution_count": 25,
   "id": "0863265e",
   "metadata": {},
   "outputs": [],
   "source": [
    "house_1 = Housing('apartment','Berkeley', 3, 1200000, 2024)\n",
    "house_2 = Housing ('condominium', 'Oakland', 2, 950000, 2023)"
   ]
  },
  {
   "cell_type": "code",
   "execution_count": 26,
   "id": "c6813fdf",
   "metadata": {},
   "outputs": [],
   "source": [
    "class Housing:\n",
    "    def __init__(self, type, area, bedrooms, value, year):\n",
    "        self.type = type\n",
    "        self.area = area\n",
    "        self.bedrooms = bedrooms\n",
    "        self.value = value\n",
    "        self.year = year\n",
    "    def rent(self):\n",
    "        return 0.004 * self.value\n",
    "house_1 = Housing('apartment','Berkeley', 3, 1200000, 2024)\n",
    "house_2 = Housing ('condominium', 'Oakland', 2, 950000, 2023)"
   ]
  },
  {
   "cell_type": "code",
   "execution_count": 28,
   "id": "4e86673c",
   "metadata": {},
   "outputs": [
    {
     "name": "stdout",
     "output_type": "stream",
     "text": [
      "The price of rent for house_1: $ 4800.0\n",
      "The price of rent house_2: $ 3800.0\n"
     ]
    }
   ],
   "source": [
    "print(\"The price of rent for house_1: $\", house_1.rent())\n",
    "print(\"The price of rent house_2: $\", house_2.rent())"
   ]
  }
 ],
 "metadata": {
  "kernelspec": {
   "display_name": "Python 3 (ipykernel)",
   "language": "python",
   "name": "python3"
  },
  "language_info": {
   "codemirror_mode": {
    "name": "ipython",
    "version": 3
   },
   "file_extension": ".py",
   "mimetype": "text/x-python",
   "name": "python",
   "nbconvert_exporter": "python",
   "pygments_lexer": "ipython3",
   "version": "3.9.13"
  },
  "toc": {
   "base_numbering": 1,
   "nav_menu": {},
   "number_sections": false,
   "sideBar": false,
   "skip_h1_title": true,
   "title_cell": "Table of Contents",
   "title_sidebar": "Contents",
   "toc_cell": false,
   "toc_position": {},
   "toc_section_display": true,
   "toc_window_display": false
  }
 },
 "nbformat": 4,
 "nbformat_minor": 5
}
